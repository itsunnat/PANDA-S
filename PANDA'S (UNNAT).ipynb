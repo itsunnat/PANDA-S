{
 "cells": [
  {
   "cell_type": "markdown",
   "id": "1bb14745",
   "metadata": {},
   "source": [
    "# PANDA'S"
   ]
  },
  {
   "cell_type": "markdown",
   "id": "06648c10",
   "metadata": {},
   "source": [
    "Pandas is an open source Library used to work with 2d Dataframes and 2D Array. It provides various structure and operations to do on numerical data with help of Numpy And Pandas Both.\n",
    "Pandas is fast and it had high perfomance and productivity for users.\n",
    "It was developed in year 2008 by wes Mckinney.\n",
    "\n",
    "why we use Pandas?\n",
    "Fast And Efficient for manupulating and analyzing the data.\n",
    "Data from diffrent objects can be easily loaded here\n",
    "Flexible reshaping of datasets.\n",
    "\n",
    "The Data produced by Pandas are often used as input for Visualization purpose\n",
    "using multiple another sources and libraries like Matplotlib and SEaborn.\n",
    "We can do data cleansing,merging and joining of data's through Pandas."
   ]
  },
  {
   "cell_type": "code",
   "execution_count": 1,
   "id": "a3819f6b",
   "metadata": {},
   "outputs": [
    {
     "name": "stdout",
     "output_type": "stream",
     "text": [
      "Defaulting to user installation because normal site-packages is not writeable\n",
      "Requirement already satisfied: pandas in c:\\programdata\\anaconda3\\lib\\site-packages (1.4.2)\n",
      "Requirement already satisfied: python-dateutil>=2.8.1 in c:\\programdata\\anaconda3\\lib\\site-packages (from pandas) (2.8.2)\n",
      "Requirement already satisfied: pytz>=2020.1 in c:\\programdata\\anaconda3\\lib\\site-packages (from pandas) (2021.3)\n",
      "Requirement already satisfied: numpy>=1.18.5 in c:\\programdata\\anaconda3\\lib\\site-packages (from pandas) (1.21.5)\n",
      "Requirement already satisfied: six>=1.5 in c:\\programdata\\anaconda3\\lib\\site-packages (from python-dateutil>=2.8.1->pandas) (1.16.0)\n",
      "Note: you may need to restart the kernel to use updated packages.\n"
     ]
    }
   ],
   "source": [
    "pip install pandas"
   ]
  },
  {
   "cell_type": "code",
   "execution_count": 2,
   "id": "145093f6",
   "metadata": {},
   "outputs": [],
   "source": [
    "import pandas as pd"
   ]
  },
  {
   "cell_type": "code",
   "execution_count": 3,
   "id": "fa93aa2c",
   "metadata": {},
   "outputs": [
    {
     "data": {
      "text/plain": [
       "['Unnat', 'kunal', 'aman', 'jay', 'vishal', 'dipesh']"
      ]
     },
     "execution_count": 3,
     "metadata": {},
     "output_type": "execute_result"
    }
   ],
   "source": [
    "#Create a data from list\n",
    "\n",
    "X=[\"Unnat\",\"kunal\",\"aman\",\"jay\",\"vishal\",\"dipesh\"]\n",
    "X"
   ]
  },
  {
   "cell_type": "code",
   "execution_count": 4,
   "id": "8a15be3d",
   "metadata": {},
   "outputs": [
    {
     "data": {
      "text/html": [
       "<div>\n",
       "<style scoped>\n",
       "    .dataframe tbody tr th:only-of-type {\n",
       "        vertical-align: middle;\n",
       "    }\n",
       "\n",
       "    .dataframe tbody tr th {\n",
       "        vertical-align: top;\n",
       "    }\n",
       "\n",
       "    .dataframe thead th {\n",
       "        text-align: right;\n",
       "    }\n",
       "</style>\n",
       "<table border=\"1\" class=\"dataframe\">\n",
       "  <thead>\n",
       "    <tr style=\"text-align: right;\">\n",
       "      <th></th>\n",
       "      <th>0</th>\n",
       "    </tr>\n",
       "  </thead>\n",
       "  <tbody>\n",
       "    <tr>\n",
       "      <th>0</th>\n",
       "      <td>Unnat</td>\n",
       "    </tr>\n",
       "    <tr>\n",
       "      <th>1</th>\n",
       "      <td>kunal</td>\n",
       "    </tr>\n",
       "    <tr>\n",
       "      <th>2</th>\n",
       "      <td>aman</td>\n",
       "    </tr>\n",
       "    <tr>\n",
       "      <th>3</th>\n",
       "      <td>jay</td>\n",
       "    </tr>\n",
       "    <tr>\n",
       "      <th>4</th>\n",
       "      <td>vishal</td>\n",
       "    </tr>\n",
       "    <tr>\n",
       "      <th>5</th>\n",
       "      <td>dipesh</td>\n",
       "    </tr>\n",
       "  </tbody>\n",
       "</table>\n",
       "</div>"
      ],
      "text/plain": [
       "        0\n",
       "0   Unnat\n",
       "1   kunal\n",
       "2    aman\n",
       "3     jay\n",
       "4  vishal\n",
       "5  dipesh"
      ]
     },
     "execution_count": 4,
     "metadata": {},
     "output_type": "execute_result"
    }
   ],
   "source": [
    "Data=pd.DataFrame(X) #Converting list into DAta with Dataframe function\n",
    "Data\n",
    "#Column Index starts wih o and even index also start with zero"
   ]
  },
  {
   "cell_type": "code",
   "execution_count": 5,
   "id": "55a7916a",
   "metadata": {},
   "outputs": [],
   "source": [
    "#creating data from dictionary"
   ]
  },
  {
   "cell_type": "code",
   "execution_count": 6,
   "id": "88311425",
   "metadata": {},
   "outputs": [
    {
     "data": {
      "text/plain": [
       "{'name': ['unnat', 'rahul', 'ajay'],\n",
       " 'Age': [20, 21, 22],\n",
       " 'city': ['palghar', 'wada', 'mumbai']}"
      ]
     },
     "execution_count": 6,
     "metadata": {},
     "output_type": "execute_result"
    }
   ],
   "source": [
    "dict1={\"name\":[\"unnat\",\"rahul\",\"ajay\"],\n",
    "        \"Age\":[20,21,22],\n",
    "        \"city\":[\"palghar\",\"wada\",\"mumbai\"]}\n",
    "\n",
    "dict1"
   ]
  },
  {
   "cell_type": "code",
   "execution_count": 7,
   "id": "fc42d19f",
   "metadata": {},
   "outputs": [
    {
     "data": {
      "text/html": [
       "<div>\n",
       "<style scoped>\n",
       "    .dataframe tbody tr th:only-of-type {\n",
       "        vertical-align: middle;\n",
       "    }\n",
       "\n",
       "    .dataframe tbody tr th {\n",
       "        vertical-align: top;\n",
       "    }\n",
       "\n",
       "    .dataframe thead th {\n",
       "        text-align: right;\n",
       "    }\n",
       "</style>\n",
       "<table border=\"1\" class=\"dataframe\">\n",
       "  <thead>\n",
       "    <tr style=\"text-align: right;\">\n",
       "      <th></th>\n",
       "      <th>name</th>\n",
       "      <th>Age</th>\n",
       "      <th>city</th>\n",
       "    </tr>\n",
       "  </thead>\n",
       "  <tbody>\n",
       "    <tr>\n",
       "      <th>0</th>\n",
       "      <td>unnat</td>\n",
       "      <td>20</td>\n",
       "      <td>palghar</td>\n",
       "    </tr>\n",
       "    <tr>\n",
       "      <th>1</th>\n",
       "      <td>rahul</td>\n",
       "      <td>21</td>\n",
       "      <td>wada</td>\n",
       "    </tr>\n",
       "    <tr>\n",
       "      <th>2</th>\n",
       "      <td>ajay</td>\n",
       "      <td>22</td>\n",
       "      <td>mumbai</td>\n",
       "    </tr>\n",
       "  </tbody>\n",
       "</table>\n",
       "</div>"
      ],
      "text/plain": [
       "    name  Age     city\n",
       "0  unnat   20  palghar\n",
       "1  rahul   21     wada\n",
       "2   ajay   22   mumbai"
      ]
     },
     "execution_count": 7,
     "metadata": {},
     "output_type": "execute_result"
    }
   ],
   "source": [
    "Student=pd.DataFrame(dict1)\n",
    "Student"
   ]
  },
  {
   "cell_type": "code",
   "execution_count": 8,
   "id": "cba61b84",
   "metadata": {},
   "outputs": [
    {
     "data": {
      "text/plain": [
       "0    unnat\n",
       "1    rahul\n",
       "2     ajay\n",
       "Name: name, dtype: object"
      ]
     },
     "execution_count": 8,
     "metadata": {},
     "output_type": "execute_result"
    }
   ],
   "source": [
    "#To access a column\n",
    "\n",
    "Student[\"name\"]"
   ]
  },
  {
   "cell_type": "code",
   "execution_count": 9,
   "id": "91ede4c6",
   "metadata": {},
   "outputs": [
    {
     "data": {
      "text/html": [
       "<div>\n",
       "<style scoped>\n",
       "    .dataframe tbody tr th:only-of-type {\n",
       "        vertical-align: middle;\n",
       "    }\n",
       "\n",
       "    .dataframe tbody tr th {\n",
       "        vertical-align: top;\n",
       "    }\n",
       "\n",
       "    .dataframe thead th {\n",
       "        text-align: right;\n",
       "    }\n",
       "</style>\n",
       "<table border=\"1\" class=\"dataframe\">\n",
       "  <thead>\n",
       "    <tr style=\"text-align: right;\">\n",
       "      <th></th>\n",
       "      <th>name</th>\n",
       "      <th>city</th>\n",
       "    </tr>\n",
       "  </thead>\n",
       "  <tbody>\n",
       "    <tr>\n",
       "      <th>0</th>\n",
       "      <td>unnat</td>\n",
       "      <td>palghar</td>\n",
       "    </tr>\n",
       "    <tr>\n",
       "      <th>1</th>\n",
       "      <td>rahul</td>\n",
       "      <td>wada</td>\n",
       "    </tr>\n",
       "    <tr>\n",
       "      <th>2</th>\n",
       "      <td>ajay</td>\n",
       "      <td>mumbai</td>\n",
       "    </tr>\n",
       "  </tbody>\n",
       "</table>\n",
       "</div>"
      ],
      "text/plain": [
       "    name     city\n",
       "0  unnat  palghar\n",
       "1  rahul     wada\n",
       "2   ajay   mumbai"
      ]
     },
     "execution_count": 9,
     "metadata": {},
     "output_type": "execute_result"
    }
   ],
   "source": [
    "#TO Access multiple column\n",
    "\n",
    "Student[[\"name\",\"city\"]] #When we want to access more than one column we have to write column headers in 2D array"
   ]
  },
  {
   "cell_type": "code",
   "execution_count": null,
   "id": "bac6135b",
   "metadata": {},
   "outputs": [],
   "source": []
  },
  {
   "cell_type": "code",
   "execution_count": 10,
   "id": "bbc80d4d",
   "metadata": {},
   "outputs": [
    {
     "data": {
      "text/plain": [
       "name      ajay\n",
       "Age         22\n",
       "city    mumbai\n",
       "Name: 2, dtype: object"
      ]
     },
     "execution_count": 10,
     "metadata": {},
     "output_type": "execute_result"
    }
   ],
   "source": [
    "#To access details of certain row\n",
    "\n",
    "Student.iloc[2] #iloc = index location = it is inbuilt function in Pandas"
   ]
  },
  {
   "cell_type": "code",
   "execution_count": 11,
   "id": "0ded36ee",
   "metadata": {},
   "outputs": [
    {
     "data": {
      "text/plain": [
       "'mumbai'"
      ]
     },
     "execution_count": 11,
     "metadata": {},
     "output_type": "execute_result"
    }
   ],
   "source": [
    "Student.iloc[2,2]\n"
   ]
  },
  {
   "cell_type": "code",
   "execution_count": 12,
   "id": "a5b8cbfb",
   "metadata": {},
   "outputs": [
    {
     "data": {
      "text/plain": [
       "'wada'"
      ]
     },
     "execution_count": 12,
     "metadata": {},
     "output_type": "execute_result"
    }
   ],
   "source": [
    "Student.loc[1,\"city\"] #Loc stands for location\n",
    "#in lock function we cant negative indexing we shoul know row index"
   ]
  },
  {
   "cell_type": "code",
   "execution_count": 13,
   "id": "5737c143",
   "metadata": {},
   "outputs": [
    {
     "data": {
      "text/plain": [
       "'unnat'"
      ]
     },
     "execution_count": 13,
     "metadata": {},
     "output_type": "execute_result"
    }
   ],
   "source": [
    "#3rd technique\n",
    "\n",
    "Student[\"name\"][0] #simple indexing===columnname,row index"
   ]
  },
  {
   "cell_type": "code",
   "execution_count": null,
   "id": "87f21935",
   "metadata": {},
   "outputs": [],
   "source": []
  },
  {
   "cell_type": "code",
   "execution_count": 14,
   "id": "22c2e5db",
   "metadata": {},
   "outputs": [
    {
     "data": {
      "text/html": [
       "<div>\n",
       "<style scoped>\n",
       "    .dataframe tbody tr th:only-of-type {\n",
       "        vertical-align: middle;\n",
       "    }\n",
       "\n",
       "    .dataframe tbody tr th {\n",
       "        vertical-align: top;\n",
       "    }\n",
       "\n",
       "    .dataframe thead th {\n",
       "        text-align: right;\n",
       "    }\n",
       "</style>\n",
       "<table border=\"1\" class=\"dataframe\">\n",
       "  <thead>\n",
       "    <tr style=\"text-align: right;\">\n",
       "      <th></th>\n",
       "      <th>name</th>\n",
       "      <th>Age</th>\n",
       "      <th>city</th>\n",
       "    </tr>\n",
       "  </thead>\n",
       "  <tbody>\n",
       "    <tr>\n",
       "      <th>0</th>\n",
       "      <td>unnat</td>\n",
       "      <td>20</td>\n",
       "      <td>palghar</td>\n",
       "    </tr>\n",
       "    <tr>\n",
       "      <th>1</th>\n",
       "      <td>rahul</td>\n",
       "      <td>21</td>\n",
       "      <td>wada</td>\n",
       "    </tr>\n",
       "    <tr>\n",
       "      <th>2</th>\n",
       "      <td>ajay</td>\n",
       "      <td>22</td>\n",
       "      <td>mumbai</td>\n",
       "    </tr>\n",
       "  </tbody>\n",
       "</table>\n",
       "</div>"
      ],
      "text/plain": [
       "    name  Age     city\n",
       "0  unnat   20  palghar\n",
       "1  rahul   21     wada\n",
       "2   ajay   22   mumbai"
      ]
     },
     "execution_count": 14,
     "metadata": {},
     "output_type": "execute_result"
    }
   ],
   "source": [
    "Student\n"
   ]
  },
  {
   "cell_type": "code",
   "execution_count": 15,
   "id": "ce755bec",
   "metadata": {},
   "outputs": [
    {
     "data": {
      "text/html": [
       "<div>\n",
       "<style scoped>\n",
       "    .dataframe tbody tr th:only-of-type {\n",
       "        vertical-align: middle;\n",
       "    }\n",
       "\n",
       "    .dataframe tbody tr th {\n",
       "        vertical-align: top;\n",
       "    }\n",
       "\n",
       "    .dataframe thead th {\n",
       "        text-align: right;\n",
       "    }\n",
       "</style>\n",
       "<table border=\"1\" class=\"dataframe\">\n",
       "  <thead>\n",
       "    <tr style=\"text-align: right;\">\n",
       "      <th></th>\n",
       "      <th>name</th>\n",
       "      <th>Age</th>\n",
       "      <th>city</th>\n",
       "    </tr>\n",
       "  </thead>\n",
       "  <tbody>\n",
       "    <tr>\n",
       "      <th>0</th>\n",
       "      <td>unnat</td>\n",
       "      <td>20</td>\n",
       "      <td>palghar</td>\n",
       "    </tr>\n",
       "    <tr>\n",
       "      <th>1</th>\n",
       "      <td>rahul</td>\n",
       "      <td>21</td>\n",
       "      <td>wada</td>\n",
       "    </tr>\n",
       "  </tbody>\n",
       "</table>\n",
       "</div>"
      ],
      "text/plain": [
       "    name  Age     city\n",
       "0  unnat   20  palghar\n",
       "1  rahul   21     wada"
      ]
     },
     "execution_count": 15,
     "metadata": {},
     "output_type": "execute_result"
    }
   ],
   "source": [
    "#TO ACCESS MULTIPLE ROWS AND COLUMNS TOGETHER\n",
    "\n",
    "\n",
    "Student.iloc[0:2]\n"
   ]
  },
  {
   "cell_type": "code",
   "execution_count": 16,
   "id": "f8d67897",
   "metadata": {},
   "outputs": [
    {
     "data": {
      "text/html": [
       "<div>\n",
       "<style scoped>\n",
       "    .dataframe tbody tr th:only-of-type {\n",
       "        vertical-align: middle;\n",
       "    }\n",
       "\n",
       "    .dataframe tbody tr th {\n",
       "        vertical-align: top;\n",
       "    }\n",
       "\n",
       "    .dataframe thead th {\n",
       "        text-align: right;\n",
       "    }\n",
       "</style>\n",
       "<table border=\"1\" class=\"dataframe\">\n",
       "  <thead>\n",
       "    <tr style=\"text-align: right;\">\n",
       "      <th></th>\n",
       "      <th>name</th>\n",
       "      <th>Age</th>\n",
       "      <th>city</th>\n",
       "    </tr>\n",
       "  </thead>\n",
       "  <tbody>\n",
       "    <tr>\n",
       "      <th>0</th>\n",
       "      <td>unnat</td>\n",
       "      <td>20</td>\n",
       "      <td>palghar</td>\n",
       "    </tr>\n",
       "    <tr>\n",
       "      <th>2</th>\n",
       "      <td>ajay</td>\n",
       "      <td>22</td>\n",
       "      <td>mumbai</td>\n",
       "    </tr>\n",
       "  </tbody>\n",
       "</table>\n",
       "</div>"
      ],
      "text/plain": [
       "    name  Age     city\n",
       "0  unnat   20  palghar\n",
       "2   ajay   22   mumbai"
      ]
     },
     "execution_count": 16,
     "metadata": {},
     "output_type": "execute_result"
    }
   ],
   "source": [
    "Student.iloc[0::2] #Every alternate rows from start to end"
   ]
  },
  {
   "cell_type": "code",
   "execution_count": 17,
   "id": "82629ddc",
   "metadata": {},
   "outputs": [
    {
     "data": {
      "text/html": [
       "<div>\n",
       "<style scoped>\n",
       "    .dataframe tbody tr th:only-of-type {\n",
       "        vertical-align: middle;\n",
       "    }\n",
       "\n",
       "    .dataframe tbody tr th {\n",
       "        vertical-align: top;\n",
       "    }\n",
       "\n",
       "    .dataframe thead th {\n",
       "        text-align: right;\n",
       "    }\n",
       "</style>\n",
       "<table border=\"1\" class=\"dataframe\">\n",
       "  <thead>\n",
       "    <tr style=\"text-align: right;\">\n",
       "      <th></th>\n",
       "      <th>name</th>\n",
       "      <th>city</th>\n",
       "    </tr>\n",
       "  </thead>\n",
       "  <tbody>\n",
       "    <tr>\n",
       "      <th>0</th>\n",
       "      <td>unnat</td>\n",
       "      <td>palghar</td>\n",
       "    </tr>\n",
       "    <tr>\n",
       "      <th>1</th>\n",
       "      <td>rahul</td>\n",
       "      <td>wada</td>\n",
       "    </tr>\n",
       "  </tbody>\n",
       "</table>\n",
       "</div>"
      ],
      "text/plain": [
       "    name     city\n",
       "0  unnat  palghar\n",
       "1  rahul     wada"
      ]
     },
     "execution_count": 17,
     "metadata": {},
     "output_type": "execute_result"
    }
   ],
   "source": [
    "#retrive first 5 rows name and city\n",
    "\n",
    "Student.iloc[0:2,0::2] #iloc.[row slicing, column slicing]"
   ]
  },
  {
   "cell_type": "code",
   "execution_count": 18,
   "id": "8933f16e",
   "metadata": {},
   "outputs": [
    {
     "data": {
      "text/plain": [
       "Index(['name', 'Age', 'city'], dtype='object')"
      ]
     },
     "execution_count": 18,
     "metadata": {},
     "output_type": "execute_result"
    }
   ],
   "source": [
    "Student.columns #we use this function to check the column name."
   ]
  },
  {
   "cell_type": "code",
   "execution_count": 19,
   "id": "75589395",
   "metadata": {
    "scrolled": true
   },
   "outputs": [
    {
     "name": "stdout",
     "output_type": "stream",
     "text": [
      "<class 'pandas.core.frame.DataFrame'>\n",
      "RangeIndex: 3 entries, 0 to 2\n",
      "Data columns (total 3 columns):\n",
      " #   Column  Non-Null Count  Dtype \n",
      "---  ------  --------------  ----- \n",
      " 0   name    3 non-null      object\n",
      " 1   Age     3 non-null      int64 \n",
      " 2   city    3 non-null      object\n",
      "dtypes: int64(1), object(2)\n",
      "memory usage: 200.0+ bytes\n"
     ]
    }
   ],
   "source": [
    "Student.info() #To check information about data"
   ]
  },
  {
   "cell_type": "code",
   "execution_count": 20,
   "id": "3a8ef92f",
   "metadata": {},
   "outputs": [
    {
     "data": {
      "text/plain": [
       "(3, 3)"
      ]
     },
     "execution_count": 20,
     "metadata": {},
     "output_type": "execute_result"
    }
   ],
   "source": [
    "Student.shape #no of rows and columns in your data"
   ]
  },
  {
   "cell_type": "code",
   "execution_count": 21,
   "id": "4587f0f0",
   "metadata": {},
   "outputs": [
    {
     "name": "stdout",
     "output_type": "stream",
     "text": [
      "0 name\n",
      "1 Age\n",
      "2 city\n"
     ]
    }
   ],
   "source": [
    "#TO EXTRACT COLUMN NAME WITH INDEX POSITION\n",
    "\n",
    "\n",
    "for i,c in enumerate(Student.columns):\n",
    "    print(i,c)"
   ]
  },
  {
   "cell_type": "code",
   "execution_count": 22,
   "id": "5d7dffbc",
   "metadata": {},
   "outputs": [
    {
     "data": {
      "text/html": [
       "<div>\n",
       "<style scoped>\n",
       "    .dataframe tbody tr th:only-of-type {\n",
       "        vertical-align: middle;\n",
       "    }\n",
       "\n",
       "    .dataframe tbody tr th {\n",
       "        vertical-align: top;\n",
       "    }\n",
       "\n",
       "    .dataframe thead th {\n",
       "        text-align: right;\n",
       "    }\n",
       "</style>\n",
       "<table border=\"1\" class=\"dataframe\">\n",
       "  <thead>\n",
       "    <tr style=\"text-align: right;\">\n",
       "      <th></th>\n",
       "      <th>Year</th>\n",
       "      <th>Winner</th>\n",
       "      <th>Won By</th>\n",
       "      <th>Runner Up</th>\n",
       "      <th>Venue</th>\n",
       "    </tr>\n",
       "  </thead>\n",
       "  <tbody>\n",
       "    <tr>\n",
       "      <th>0</th>\n",
       "      <td>2023</td>\n",
       "      <td>Chennai Super Kings</td>\n",
       "      <td>5 wickets</td>\n",
       "      <td>Gujarat Titans</td>\n",
       "      <td>Ahmedabad</td>\n",
       "    </tr>\n",
       "    <tr>\n",
       "      <th>1</th>\n",
       "      <td>2022</td>\n",
       "      <td>Gujarat Titans</td>\n",
       "      <td>7 wickets</td>\n",
       "      <td>Rajasthan Royals</td>\n",
       "      <td>Ahmedabad</td>\n",
       "    </tr>\n",
       "    <tr>\n",
       "      <th>2</th>\n",
       "      <td>2021</td>\n",
       "      <td>Chennai Super Kings</td>\n",
       "      <td>27 runs</td>\n",
       "      <td>Kolkata Knight Riders</td>\n",
       "      <td>Dubai</td>\n",
       "    </tr>\n",
       "    <tr>\n",
       "      <th>3</th>\n",
       "      <td>2020</td>\n",
       "      <td>Mumbai Indians</td>\n",
       "      <td>5 wickets</td>\n",
       "      <td>Delhi Capitals</td>\n",
       "      <td>Dubai</td>\n",
       "    </tr>\n",
       "    <tr>\n",
       "      <th>4</th>\n",
       "      <td>2019</td>\n",
       "      <td>Mumbai Indians</td>\n",
       "      <td>1 run</td>\n",
       "      <td>Chennai Super Kings</td>\n",
       "      <td>Hyderabad</td>\n",
       "    </tr>\n",
       "    <tr>\n",
       "      <th>5</th>\n",
       "      <td>2018</td>\n",
       "      <td>Chennai Super Kings</td>\n",
       "      <td>8 wickets</td>\n",
       "      <td>Sunrisers Hyderabad</td>\n",
       "      <td>Mumbai</td>\n",
       "    </tr>\n",
       "    <tr>\n",
       "      <th>6</th>\n",
       "      <td>2017</td>\n",
       "      <td>Mumbai Indians</td>\n",
       "      <td>1 run</td>\n",
       "      <td>Rising Pune Supergiants</td>\n",
       "      <td>Hyderabad</td>\n",
       "    </tr>\n",
       "    <tr>\n",
       "      <th>7</th>\n",
       "      <td>2016</td>\n",
       "      <td>Sunrisers Hyderabad</td>\n",
       "      <td>8 runs</td>\n",
       "      <td>Royal Challengers Bangalore</td>\n",
       "      <td>Bangalore</td>\n",
       "    </tr>\n",
       "    <tr>\n",
       "      <th>8</th>\n",
       "      <td>2015</td>\n",
       "      <td>Mumbai Indians</td>\n",
       "      <td>41 runs</td>\n",
       "      <td>Chennai Super Kings</td>\n",
       "      <td>Kolkata</td>\n",
       "    </tr>\n",
       "    <tr>\n",
       "      <th>9</th>\n",
       "      <td>2014</td>\n",
       "      <td>Kolkata Knight Riders</td>\n",
       "      <td>3 wickets</td>\n",
       "      <td>Kings XI Punjab</td>\n",
       "      <td>Bangalore</td>\n",
       "    </tr>\n",
       "    <tr>\n",
       "      <th>10</th>\n",
       "      <td>2013</td>\n",
       "      <td>Mumbai Indians</td>\n",
       "      <td>23 runs</td>\n",
       "      <td>Chennai Super Kings</td>\n",
       "      <td>Kolkata</td>\n",
       "    </tr>\n",
       "    <tr>\n",
       "      <th>11</th>\n",
       "      <td>2012</td>\n",
       "      <td>Kolkata Knight Riders</td>\n",
       "      <td>5 wickets</td>\n",
       "      <td>Chennai Super Kings</td>\n",
       "      <td>Chennai</td>\n",
       "    </tr>\n",
       "    <tr>\n",
       "      <th>12</th>\n",
       "      <td>2011</td>\n",
       "      <td>Chennai Super Kings</td>\n",
       "      <td>58 runs</td>\n",
       "      <td>Royal Challengers Bangalore</td>\n",
       "      <td>Chennai</td>\n",
       "    </tr>\n",
       "    <tr>\n",
       "      <th>13</th>\n",
       "      <td>2010</td>\n",
       "      <td>Chennai Super Kings</td>\n",
       "      <td>22 runs</td>\n",
       "      <td>Mumbai Indians</td>\n",
       "      <td>Mumbai</td>\n",
       "    </tr>\n",
       "    <tr>\n",
       "      <th>14</th>\n",
       "      <td>2009</td>\n",
       "      <td>Deccan Chargers</td>\n",
       "      <td>6 runs</td>\n",
       "      <td>Royal Challengers Bangalore</td>\n",
       "      <td>Johannesburg</td>\n",
       "    </tr>\n",
       "    <tr>\n",
       "      <th>15</th>\n",
       "      <td>2008</td>\n",
       "      <td>Rajasthan Royals</td>\n",
       "      <td>3 wickets</td>\n",
       "      <td>Chennai Super Kings</td>\n",
       "      <td>Mumbai</td>\n",
       "    </tr>\n",
       "  </tbody>\n",
       "</table>\n",
       "</div>"
      ],
      "text/plain": [
       "    Year                 Winner     Won By                    Runner Up  \\\n",
       "0   2023    Chennai Super Kings  5 wickets               Gujarat Titans   \n",
       "1   2022         Gujarat Titans  7 wickets             Rajasthan Royals   \n",
       "2   2021    Chennai Super Kings    27 runs        Kolkata Knight Riders   \n",
       "3   2020         Mumbai Indians  5 wickets               Delhi Capitals   \n",
       "4   2019         Mumbai Indians      1 run          Chennai Super Kings   \n",
       "5   2018    Chennai Super Kings  8 wickets          Sunrisers Hyderabad   \n",
       "6   2017         Mumbai Indians      1 run      Rising Pune Supergiants   \n",
       "7   2016    Sunrisers Hyderabad     8 runs  Royal Challengers Bangalore   \n",
       "8   2015         Mumbai Indians    41 runs          Chennai Super Kings   \n",
       "9   2014  Kolkata Knight Riders  3 wickets              Kings XI Punjab   \n",
       "10  2013         Mumbai Indians    23 runs          Chennai Super Kings   \n",
       "11  2012  Kolkata Knight Riders  5 wickets          Chennai Super Kings   \n",
       "12  2011    Chennai Super Kings    58 runs  Royal Challengers Bangalore   \n",
       "13  2010    Chennai Super Kings    22 runs               Mumbai Indians   \n",
       "14  2009        Deccan Chargers     6 runs  Royal Challengers Bangalore   \n",
       "15  2008       Rajasthan Royals  3 wickets          Chennai Super Kings   \n",
       "\n",
       "           Venue  \n",
       "0      Ahmedabad  \n",
       "1      Ahmedabad  \n",
       "2          Dubai  \n",
       "3          Dubai  \n",
       "4      Hyderabad  \n",
       "5         Mumbai  \n",
       "6      Hyderabad  \n",
       "7      Bangalore  \n",
       "8        Kolkata  \n",
       "9      Bangalore  \n",
       "10       Kolkata  \n",
       "11       Chennai  \n",
       "12       Chennai  \n",
       "13        Mumbai  \n",
       "14  Johannesburg  \n",
       "15        Mumbai  "
      ]
     },
     "execution_count": 22,
     "metadata": {},
     "output_type": "execute_result"
    }
   ],
   "source": [
    "IPL=pd.read_clipboard() #read_clipboard is a function which read the data which is been copied in clipboard\n",
    "IPL"
   ]
  },
  {
   "cell_type": "code",
   "execution_count": 23,
   "id": "ce98270b",
   "metadata": {},
   "outputs": [
    {
     "name": "stdout",
     "output_type": "stream",
     "text": [
      "<class 'pandas.core.frame.DataFrame'>\n",
      "RangeIndex: 16 entries, 0 to 15\n",
      "Data columns (total 5 columns):\n",
      " #   Column     Non-Null Count  Dtype \n",
      "---  ------     --------------  ----- \n",
      " 0   Year       16 non-null     int64 \n",
      " 1   Winner     16 non-null     object\n",
      " 2   Won By     16 non-null     object\n",
      " 3   Runner Up  16 non-null     object\n",
      " 4   Venue      16 non-null     object\n",
      "dtypes: int64(1), object(4)\n",
      "memory usage: 768.0+ bytes\n"
     ]
    }
   ],
   "source": [
    "IPL.info()"
   ]
  },
  {
   "cell_type": "code",
   "execution_count": 24,
   "id": "92e1964a",
   "metadata": {},
   "outputs": [
    {
     "data": {
      "text/plain": [
       "(16, 5)"
      ]
     },
     "execution_count": 24,
     "metadata": {},
     "output_type": "execute_result"
    }
   ],
   "source": [
    "IPL.shape"
   ]
  },
  {
   "cell_type": "code",
   "execution_count": 25,
   "id": "8bacc076",
   "metadata": {},
   "outputs": [
    {
     "data": {
      "text/plain": [
       "Index(['Year', 'Winner', 'Won By', 'Runner Up', 'Venue'], dtype='object')"
      ]
     },
     "execution_count": 25,
     "metadata": {},
     "output_type": "execute_result"
    }
   ],
   "source": [
    "IPL.columns"
   ]
  },
  {
   "cell_type": "code",
   "execution_count": 26,
   "id": "249e3b46",
   "metadata": {},
   "outputs": [
    {
     "data": {
      "text/html": [
       "<div>\n",
       "<style scoped>\n",
       "    .dataframe tbody tr th:only-of-type {\n",
       "        vertical-align: middle;\n",
       "    }\n",
       "\n",
       "    .dataframe tbody tr th {\n",
       "        vertical-align: top;\n",
       "    }\n",
       "\n",
       "    .dataframe thead th {\n",
       "        text-align: right;\n",
       "    }\n",
       "</style>\n",
       "<table border=\"1\" class=\"dataframe\">\n",
       "  <thead>\n",
       "    <tr style=\"text-align: right;\">\n",
       "      <th></th>\n",
       "      <th>Year</th>\n",
       "      <th>Winner</th>\n",
       "      <th>Won By</th>\n",
       "      <th>Runner Up</th>\n",
       "      <th>Venue</th>\n",
       "    </tr>\n",
       "  </thead>\n",
       "  <tbody>\n",
       "    <tr>\n",
       "      <th>0</th>\n",
       "      <td>2023</td>\n",
       "      <td>Chennai Super Kings</td>\n",
       "      <td>5 wickets</td>\n",
       "      <td>Gujarat Titans</td>\n",
       "      <td>Ahmedabad</td>\n",
       "    </tr>\n",
       "    <tr>\n",
       "      <th>1</th>\n",
       "      <td>2022</td>\n",
       "      <td>Gujarat Titans</td>\n",
       "      <td>7 wickets</td>\n",
       "      <td>Rajasthan Royals</td>\n",
       "      <td>Ahmedabad</td>\n",
       "    </tr>\n",
       "    <tr>\n",
       "      <th>2</th>\n",
       "      <td>2021</td>\n",
       "      <td>Chennai Super Kings</td>\n",
       "      <td>27 runs</td>\n",
       "      <td>Kolkata Knight Riders</td>\n",
       "      <td>Dubai</td>\n",
       "    </tr>\n",
       "    <tr>\n",
       "      <th>3</th>\n",
       "      <td>2020</td>\n",
       "      <td>Mumbai Indians</td>\n",
       "      <td>5 wickets</td>\n",
       "      <td>Delhi Capitals</td>\n",
       "      <td>Dubai</td>\n",
       "    </tr>\n",
       "    <tr>\n",
       "      <th>4</th>\n",
       "      <td>2019</td>\n",
       "      <td>Mumbai Indians</td>\n",
       "      <td>1 run</td>\n",
       "      <td>Chennai Super Kings</td>\n",
       "      <td>Hyderabad</td>\n",
       "    </tr>\n",
       "  </tbody>\n",
       "</table>\n",
       "</div>"
      ],
      "text/plain": [
       "   Year               Winner     Won By              Runner Up      Venue\n",
       "0  2023  Chennai Super Kings  5 wickets         Gujarat Titans  Ahmedabad\n",
       "1  2022       Gujarat Titans  7 wickets       Rajasthan Royals  Ahmedabad\n",
       "2  2021  Chennai Super Kings    27 runs  Kolkata Knight Riders      Dubai\n",
       "3  2020       Mumbai Indians  5 wickets         Delhi Capitals      Dubai\n",
       "4  2019       Mumbai Indians      1 run    Chennai Super Kings  Hyderabad"
      ]
     },
     "execution_count": 26,
     "metadata": {},
     "output_type": "execute_result"
    }
   ],
   "source": [
    "#top5 rows\n",
    "\n",
    "IPL.head() #head function gives us first 5 rows"
   ]
  },
  {
   "cell_type": "code",
   "execution_count": 27,
   "id": "1e6e7443",
   "metadata": {},
   "outputs": [
    {
     "data": {
      "text/html": [
       "<div>\n",
       "<style scoped>\n",
       "    .dataframe tbody tr th:only-of-type {\n",
       "        vertical-align: middle;\n",
       "    }\n",
       "\n",
       "    .dataframe tbody tr th {\n",
       "        vertical-align: top;\n",
       "    }\n",
       "\n",
       "    .dataframe thead th {\n",
       "        text-align: right;\n",
       "    }\n",
       "</style>\n",
       "<table border=\"1\" class=\"dataframe\">\n",
       "  <thead>\n",
       "    <tr style=\"text-align: right;\">\n",
       "      <th></th>\n",
       "      <th>Year</th>\n",
       "      <th>Winner</th>\n",
       "      <th>Won By</th>\n",
       "      <th>Runner Up</th>\n",
       "      <th>Venue</th>\n",
       "    </tr>\n",
       "  </thead>\n",
       "  <tbody>\n",
       "    <tr>\n",
       "      <th>0</th>\n",
       "      <td>2023</td>\n",
       "      <td>Chennai Super Kings</td>\n",
       "      <td>5 wickets</td>\n",
       "      <td>Gujarat Titans</td>\n",
       "      <td>Ahmedabad</td>\n",
       "    </tr>\n",
       "    <tr>\n",
       "      <th>1</th>\n",
       "      <td>2022</td>\n",
       "      <td>Gujarat Titans</td>\n",
       "      <td>7 wickets</td>\n",
       "      <td>Rajasthan Royals</td>\n",
       "      <td>Ahmedabad</td>\n",
       "    </tr>\n",
       "    <tr>\n",
       "      <th>2</th>\n",
       "      <td>2021</td>\n",
       "      <td>Chennai Super Kings</td>\n",
       "      <td>27 runs</td>\n",
       "      <td>Kolkata Knight Riders</td>\n",
       "      <td>Dubai</td>\n",
       "    </tr>\n",
       "    <tr>\n",
       "      <th>3</th>\n",
       "      <td>2020</td>\n",
       "      <td>Mumbai Indians</td>\n",
       "      <td>5 wickets</td>\n",
       "      <td>Delhi Capitals</td>\n",
       "      <td>Dubai</td>\n",
       "    </tr>\n",
       "    <tr>\n",
       "      <th>4</th>\n",
       "      <td>2019</td>\n",
       "      <td>Mumbai Indians</td>\n",
       "      <td>1 run</td>\n",
       "      <td>Chennai Super Kings</td>\n",
       "      <td>Hyderabad</td>\n",
       "    </tr>\n",
       "    <tr>\n",
       "      <th>5</th>\n",
       "      <td>2018</td>\n",
       "      <td>Chennai Super Kings</td>\n",
       "      <td>8 wickets</td>\n",
       "      <td>Sunrisers Hyderabad</td>\n",
       "      <td>Mumbai</td>\n",
       "    </tr>\n",
       "    <tr>\n",
       "      <th>6</th>\n",
       "      <td>2017</td>\n",
       "      <td>Mumbai Indians</td>\n",
       "      <td>1 run</td>\n",
       "      <td>Rising Pune Supergiants</td>\n",
       "      <td>Hyderabad</td>\n",
       "    </tr>\n",
       "    <tr>\n",
       "      <th>7</th>\n",
       "      <td>2016</td>\n",
       "      <td>Sunrisers Hyderabad</td>\n",
       "      <td>8 runs</td>\n",
       "      <td>Royal Challengers Bangalore</td>\n",
       "      <td>Bangalore</td>\n",
       "    </tr>\n",
       "    <tr>\n",
       "      <th>8</th>\n",
       "      <td>2015</td>\n",
       "      <td>Mumbai Indians</td>\n",
       "      <td>41 runs</td>\n",
       "      <td>Chennai Super Kings</td>\n",
       "      <td>Kolkata</td>\n",
       "    </tr>\n",
       "    <tr>\n",
       "      <th>9</th>\n",
       "      <td>2014</td>\n",
       "      <td>Kolkata Knight Riders</td>\n",
       "      <td>3 wickets</td>\n",
       "      <td>Kings XI Punjab</td>\n",
       "      <td>Bangalore</td>\n",
       "    </tr>\n",
       "  </tbody>\n",
       "</table>\n",
       "</div>"
      ],
      "text/plain": [
       "   Year                 Winner     Won By                    Runner Up  \\\n",
       "0  2023    Chennai Super Kings  5 wickets               Gujarat Titans   \n",
       "1  2022         Gujarat Titans  7 wickets             Rajasthan Royals   \n",
       "2  2021    Chennai Super Kings    27 runs        Kolkata Knight Riders   \n",
       "3  2020         Mumbai Indians  5 wickets               Delhi Capitals   \n",
       "4  2019         Mumbai Indians      1 run          Chennai Super Kings   \n",
       "5  2018    Chennai Super Kings  8 wickets          Sunrisers Hyderabad   \n",
       "6  2017         Mumbai Indians      1 run      Rising Pune Supergiants   \n",
       "7  2016    Sunrisers Hyderabad     8 runs  Royal Challengers Bangalore   \n",
       "8  2015         Mumbai Indians    41 runs          Chennai Super Kings   \n",
       "9  2014  Kolkata Knight Riders  3 wickets              Kings XI Punjab   \n",
       "\n",
       "       Venue  \n",
       "0  Ahmedabad  \n",
       "1  Ahmedabad  \n",
       "2      Dubai  \n",
       "3      Dubai  \n",
       "4  Hyderabad  \n",
       "5     Mumbai  \n",
       "6  Hyderabad  \n",
       "7  Bangalore  \n",
       "8    Kolkata  \n",
       "9  Bangalore  "
      ]
     },
     "execution_count": 27,
     "metadata": {},
     "output_type": "execute_result"
    }
   ],
   "source": [
    "#First 10 rows\n",
    "\n",
    "IPL.head(10) #insert no. of rows inside the bracket to fetch certain rows"
   ]
  },
  {
   "cell_type": "code",
   "execution_count": 28,
   "id": "3c5f6372",
   "metadata": {},
   "outputs": [
    {
     "data": {
      "text/html": [
       "<div>\n",
       "<style scoped>\n",
       "    .dataframe tbody tr th:only-of-type {\n",
       "        vertical-align: middle;\n",
       "    }\n",
       "\n",
       "    .dataframe tbody tr th {\n",
       "        vertical-align: top;\n",
       "    }\n",
       "\n",
       "    .dataframe thead th {\n",
       "        text-align: right;\n",
       "    }\n",
       "</style>\n",
       "<table border=\"1\" class=\"dataframe\">\n",
       "  <thead>\n",
       "    <tr style=\"text-align: right;\">\n",
       "      <th></th>\n",
       "      <th>Year</th>\n",
       "      <th>Winner</th>\n",
       "      <th>Won By</th>\n",
       "      <th>Runner Up</th>\n",
       "      <th>Venue</th>\n",
       "    </tr>\n",
       "  </thead>\n",
       "  <tbody>\n",
       "    <tr>\n",
       "      <th>11</th>\n",
       "      <td>2012</td>\n",
       "      <td>Kolkata Knight Riders</td>\n",
       "      <td>5 wickets</td>\n",
       "      <td>Chennai Super Kings</td>\n",
       "      <td>Chennai</td>\n",
       "    </tr>\n",
       "    <tr>\n",
       "      <th>12</th>\n",
       "      <td>2011</td>\n",
       "      <td>Chennai Super Kings</td>\n",
       "      <td>58 runs</td>\n",
       "      <td>Royal Challengers Bangalore</td>\n",
       "      <td>Chennai</td>\n",
       "    </tr>\n",
       "    <tr>\n",
       "      <th>13</th>\n",
       "      <td>2010</td>\n",
       "      <td>Chennai Super Kings</td>\n",
       "      <td>22 runs</td>\n",
       "      <td>Mumbai Indians</td>\n",
       "      <td>Mumbai</td>\n",
       "    </tr>\n",
       "    <tr>\n",
       "      <th>14</th>\n",
       "      <td>2009</td>\n",
       "      <td>Deccan Chargers</td>\n",
       "      <td>6 runs</td>\n",
       "      <td>Royal Challengers Bangalore</td>\n",
       "      <td>Johannesburg</td>\n",
       "    </tr>\n",
       "    <tr>\n",
       "      <th>15</th>\n",
       "      <td>2008</td>\n",
       "      <td>Rajasthan Royals</td>\n",
       "      <td>3 wickets</td>\n",
       "      <td>Chennai Super Kings</td>\n",
       "      <td>Mumbai</td>\n",
       "    </tr>\n",
       "  </tbody>\n",
       "</table>\n",
       "</div>"
      ],
      "text/plain": [
       "    Year                 Winner     Won By                    Runner Up  \\\n",
       "11  2012  Kolkata Knight Riders  5 wickets          Chennai Super Kings   \n",
       "12  2011    Chennai Super Kings    58 runs  Royal Challengers Bangalore   \n",
       "13  2010    Chennai Super Kings    22 runs               Mumbai Indians   \n",
       "14  2009        Deccan Chargers     6 runs  Royal Challengers Bangalore   \n",
       "15  2008       Rajasthan Royals  3 wickets          Chennai Super Kings   \n",
       "\n",
       "           Venue  \n",
       "11       Chennai  \n",
       "12       Chennai  \n",
       "13        Mumbai  \n",
       "14  Johannesburg  \n",
       "15        Mumbai  "
      ]
     },
     "execution_count": 28,
     "metadata": {},
     "output_type": "execute_result"
    }
   ],
   "source": [
    "IPL.tail()"
   ]
  },
  {
   "cell_type": "code",
   "execution_count": 29,
   "id": "d23b5177",
   "metadata": {},
   "outputs": [
    {
     "data": {
      "text/html": [
       "<div>\n",
       "<style scoped>\n",
       "    .dataframe tbody tr th:only-of-type {\n",
       "        vertical-align: middle;\n",
       "    }\n",
       "\n",
       "    .dataframe tbody tr th {\n",
       "        vertical-align: top;\n",
       "    }\n",
       "\n",
       "    .dataframe thead th {\n",
       "        text-align: right;\n",
       "    }\n",
       "</style>\n",
       "<table border=\"1\" class=\"dataframe\">\n",
       "  <thead>\n",
       "    <tr style=\"text-align: right;\">\n",
       "      <th></th>\n",
       "      <th>Year</th>\n",
       "      <th>Winner</th>\n",
       "      <th>Won By</th>\n",
       "      <th>Runner Up</th>\n",
       "      <th>Venue</th>\n",
       "    </tr>\n",
       "  </thead>\n",
       "  <tbody>\n",
       "    <tr>\n",
       "      <th>8</th>\n",
       "      <td>2015</td>\n",
       "      <td>Mumbai Indians</td>\n",
       "      <td>41 runs</td>\n",
       "      <td>Chennai Super Kings</td>\n",
       "      <td>Kolkata</td>\n",
       "    </tr>\n",
       "    <tr>\n",
       "      <th>9</th>\n",
       "      <td>2014</td>\n",
       "      <td>Kolkata Knight Riders</td>\n",
       "      <td>3 wickets</td>\n",
       "      <td>Kings XI Punjab</td>\n",
       "      <td>Bangalore</td>\n",
       "    </tr>\n",
       "    <tr>\n",
       "      <th>10</th>\n",
       "      <td>2013</td>\n",
       "      <td>Mumbai Indians</td>\n",
       "      <td>23 runs</td>\n",
       "      <td>Chennai Super Kings</td>\n",
       "      <td>Kolkata</td>\n",
       "    </tr>\n",
       "    <tr>\n",
       "      <th>11</th>\n",
       "      <td>2012</td>\n",
       "      <td>Kolkata Knight Riders</td>\n",
       "      <td>5 wickets</td>\n",
       "      <td>Chennai Super Kings</td>\n",
       "      <td>Chennai</td>\n",
       "    </tr>\n",
       "    <tr>\n",
       "      <th>12</th>\n",
       "      <td>2011</td>\n",
       "      <td>Chennai Super Kings</td>\n",
       "      <td>58 runs</td>\n",
       "      <td>Royal Challengers Bangalore</td>\n",
       "      <td>Chennai</td>\n",
       "    </tr>\n",
       "    <tr>\n",
       "      <th>13</th>\n",
       "      <td>2010</td>\n",
       "      <td>Chennai Super Kings</td>\n",
       "      <td>22 runs</td>\n",
       "      <td>Mumbai Indians</td>\n",
       "      <td>Mumbai</td>\n",
       "    </tr>\n",
       "    <tr>\n",
       "      <th>14</th>\n",
       "      <td>2009</td>\n",
       "      <td>Deccan Chargers</td>\n",
       "      <td>6 runs</td>\n",
       "      <td>Royal Challengers Bangalore</td>\n",
       "      <td>Johannesburg</td>\n",
       "    </tr>\n",
       "    <tr>\n",
       "      <th>15</th>\n",
       "      <td>2008</td>\n",
       "      <td>Rajasthan Royals</td>\n",
       "      <td>3 wickets</td>\n",
       "      <td>Chennai Super Kings</td>\n",
       "      <td>Mumbai</td>\n",
       "    </tr>\n",
       "  </tbody>\n",
       "</table>\n",
       "</div>"
      ],
      "text/plain": [
       "    Year                 Winner     Won By                    Runner Up  \\\n",
       "8   2015         Mumbai Indians    41 runs          Chennai Super Kings   \n",
       "9   2014  Kolkata Knight Riders  3 wickets              Kings XI Punjab   \n",
       "10  2013         Mumbai Indians    23 runs          Chennai Super Kings   \n",
       "11  2012  Kolkata Knight Riders  5 wickets          Chennai Super Kings   \n",
       "12  2011    Chennai Super Kings    58 runs  Royal Challengers Bangalore   \n",
       "13  2010    Chennai Super Kings    22 runs               Mumbai Indians   \n",
       "14  2009        Deccan Chargers     6 runs  Royal Challengers Bangalore   \n",
       "15  2008       Rajasthan Royals  3 wickets          Chennai Super Kings   \n",
       "\n",
       "           Venue  \n",
       "8        Kolkata  \n",
       "9      Bangalore  \n",
       "10       Kolkata  \n",
       "11       Chennai  \n",
       "12       Chennai  \n",
       "13        Mumbai  \n",
       "14  Johannesburg  \n",
       "15        Mumbai  "
      ]
     },
     "execution_count": 29,
     "metadata": {},
     "output_type": "execute_result"
    }
   ],
   "source": [
    "IPL.tail(8)"
   ]
  },
  {
   "cell_type": "code",
   "execution_count": 30,
   "id": "a41c3eff",
   "metadata": {},
   "outputs": [
    {
     "data": {
      "text/html": [
       "<div>\n",
       "<style scoped>\n",
       "    .dataframe tbody tr th:only-of-type {\n",
       "        vertical-align: middle;\n",
       "    }\n",
       "\n",
       "    .dataframe tbody tr th {\n",
       "        vertical-align: top;\n",
       "    }\n",
       "\n",
       "    .dataframe thead th {\n",
       "        text-align: right;\n",
       "    }\n",
       "</style>\n",
       "<table border=\"1\" class=\"dataframe\">\n",
       "  <thead>\n",
       "    <tr style=\"text-align: right;\">\n",
       "      <th></th>\n",
       "      <th>Year</th>\n",
       "      <th>Winner</th>\n",
       "      <th>Won By</th>\n",
       "      <th>Runner Up</th>\n",
       "      <th>Venue</th>\n",
       "    </tr>\n",
       "  </thead>\n",
       "  <tbody>\n",
       "    <tr>\n",
       "      <th>0</th>\n",
       "      <td>2023</td>\n",
       "      <td>Chennai Super Kings</td>\n",
       "      <td>5 wickets</td>\n",
       "      <td>Gujarat Titans</td>\n",
       "      <td>Ahmedabad</td>\n",
       "    </tr>\n",
       "    <tr>\n",
       "      <th>1</th>\n",
       "      <td>2022</td>\n",
       "      <td>Gujarat Titans</td>\n",
       "      <td>7 wickets</td>\n",
       "      <td>Rajasthan Royals</td>\n",
       "      <td>Ahmedabad</td>\n",
       "    </tr>\n",
       "    <tr>\n",
       "      <th>2</th>\n",
       "      <td>2021</td>\n",
       "      <td>Chennai Super Kings</td>\n",
       "      <td>27 runs</td>\n",
       "      <td>Kolkata Knight Riders</td>\n",
       "      <td>Dubai</td>\n",
       "    </tr>\n",
       "    <tr>\n",
       "      <th>3</th>\n",
       "      <td>2020</td>\n",
       "      <td>Mumbai Indians</td>\n",
       "      <td>5 wickets</td>\n",
       "      <td>Delhi Capitals</td>\n",
       "      <td>Dubai</td>\n",
       "    </tr>\n",
       "    <tr>\n",
       "      <th>4</th>\n",
       "      <td>2019</td>\n",
       "      <td>Mumbai Indians</td>\n",
       "      <td>1 run</td>\n",
       "      <td>Chennai Super Kings</td>\n",
       "      <td>Hyderabad</td>\n",
       "    </tr>\n",
       "    <tr>\n",
       "      <th>5</th>\n",
       "      <td>2018</td>\n",
       "      <td>Chennai Super Kings</td>\n",
       "      <td>8 wickets</td>\n",
       "      <td>Sunrisers Hyderabad</td>\n",
       "      <td>Mumbai</td>\n",
       "    </tr>\n",
       "    <tr>\n",
       "      <th>6</th>\n",
       "      <td>2017</td>\n",
       "      <td>Mumbai Indians</td>\n",
       "      <td>1 run</td>\n",
       "      <td>Rising Pune Supergiants</td>\n",
       "      <td>Hyderabad</td>\n",
       "    </tr>\n",
       "    <tr>\n",
       "      <th>7</th>\n",
       "      <td>2016</td>\n",
       "      <td>Sunrisers Hyderabad</td>\n",
       "      <td>8 runs</td>\n",
       "      <td>Royal Challengers Bangalore</td>\n",
       "      <td>Bangalore</td>\n",
       "    </tr>\n",
       "    <tr>\n",
       "      <th>8</th>\n",
       "      <td>2015</td>\n",
       "      <td>Mumbai Indians</td>\n",
       "      <td>41 runs</td>\n",
       "      <td>Chennai Super Kings</td>\n",
       "      <td>Kolkata</td>\n",
       "    </tr>\n",
       "    <tr>\n",
       "      <th>9</th>\n",
       "      <td>2014</td>\n",
       "      <td>Kolkata Knight Riders</td>\n",
       "      <td>3 wickets</td>\n",
       "      <td>Kings XI Punjab</td>\n",
       "      <td>Bangalore</td>\n",
       "    </tr>\n",
       "    <tr>\n",
       "      <th>10</th>\n",
       "      <td>2013</td>\n",
       "      <td>Mumbai Indians</td>\n",
       "      <td>23 runs</td>\n",
       "      <td>Chennai Super Kings</td>\n",
       "      <td>Kolkata</td>\n",
       "    </tr>\n",
       "    <tr>\n",
       "      <th>11</th>\n",
       "      <td>2012</td>\n",
       "      <td>Kolkata Knight Riders</td>\n",
       "      <td>5 wickets</td>\n",
       "      <td>Chennai Super Kings</td>\n",
       "      <td>Chennai</td>\n",
       "    </tr>\n",
       "    <tr>\n",
       "      <th>12</th>\n",
       "      <td>2011</td>\n",
       "      <td>Chennai Super Kings</td>\n",
       "      <td>58 runs</td>\n",
       "      <td>Royal Challengers Bangalore</td>\n",
       "      <td>Chennai</td>\n",
       "    </tr>\n",
       "    <tr>\n",
       "      <th>13</th>\n",
       "      <td>2010</td>\n",
       "      <td>Chennai Super Kings</td>\n",
       "      <td>22 runs</td>\n",
       "      <td>Mumbai Indians</td>\n",
       "      <td>Mumbai</td>\n",
       "    </tr>\n",
       "    <tr>\n",
       "      <th>14</th>\n",
       "      <td>2009</td>\n",
       "      <td>Deccan Chargers</td>\n",
       "      <td>6 runs</td>\n",
       "      <td>Royal Challengers Bangalore</td>\n",
       "      <td>Johannesburg</td>\n",
       "    </tr>\n",
       "    <tr>\n",
       "      <th>15</th>\n",
       "      <td>2008</td>\n",
       "      <td>Rajasthan Royals</td>\n",
       "      <td>3 wickets</td>\n",
       "      <td>Chennai Super Kings</td>\n",
       "      <td>Mumbai</td>\n",
       "    </tr>\n",
       "  </tbody>\n",
       "</table>\n",
       "</div>"
      ],
      "text/plain": [
       "    Year                 Winner     Won By                    Runner Up  \\\n",
       "0   2023    Chennai Super Kings  5 wickets               Gujarat Titans   \n",
       "1   2022         Gujarat Titans  7 wickets             Rajasthan Royals   \n",
       "2   2021    Chennai Super Kings    27 runs        Kolkata Knight Riders   \n",
       "3   2020         Mumbai Indians  5 wickets               Delhi Capitals   \n",
       "4   2019         Mumbai Indians      1 run          Chennai Super Kings   \n",
       "5   2018    Chennai Super Kings  8 wickets          Sunrisers Hyderabad   \n",
       "6   2017         Mumbai Indians      1 run      Rising Pune Supergiants   \n",
       "7   2016    Sunrisers Hyderabad     8 runs  Royal Challengers Bangalore   \n",
       "8   2015         Mumbai Indians    41 runs          Chennai Super Kings   \n",
       "9   2014  Kolkata Knight Riders  3 wickets              Kings XI Punjab   \n",
       "10  2013         Mumbai Indians    23 runs          Chennai Super Kings   \n",
       "11  2012  Kolkata Knight Riders  5 wickets          Chennai Super Kings   \n",
       "12  2011    Chennai Super Kings    58 runs  Royal Challengers Bangalore   \n",
       "13  2010    Chennai Super Kings    22 runs               Mumbai Indians   \n",
       "14  2009        Deccan Chargers     6 runs  Royal Challengers Bangalore   \n",
       "15  2008       Rajasthan Royals  3 wickets          Chennai Super Kings   \n",
       "\n",
       "           Venue  \n",
       "0      Ahmedabad  \n",
       "1      Ahmedabad  \n",
       "2          Dubai  \n",
       "3          Dubai  \n",
       "4      Hyderabad  \n",
       "5         Mumbai  \n",
       "6      Hyderabad  \n",
       "7      Bangalore  \n",
       "8        Kolkata  \n",
       "9      Bangalore  \n",
       "10       Kolkata  \n",
       "11       Chennai  \n",
       "12       Chennai  \n",
       "13        Mumbai  \n",
       "14  Johannesburg  \n",
       "15        Mumbai  "
      ]
     },
     "execution_count": 30,
     "metadata": {},
     "output_type": "execute_result"
    }
   ],
   "source": [
    "IPL"
   ]
  },
  {
   "cell_type": "code",
   "execution_count": 31,
   "id": "c0d41bd2",
   "metadata": {},
   "outputs": [
    {
     "data": {
      "text/plain": [
       "0       Chennai Super Kings\n",
       "1            Gujarat Titans\n",
       "2       Chennai Super Kings\n",
       "3            Mumbai Indians\n",
       "4            Mumbai Indians\n",
       "5       Chennai Super Kings\n",
       "6            Mumbai Indians\n",
       "7       Sunrisers Hyderabad\n",
       "8            Mumbai Indians\n",
       "9     Kolkata Knight Riders\n",
       "10           Mumbai Indians\n",
       "11    Kolkata Knight Riders\n",
       "12      Chennai Super Kings\n",
       "13      Chennai Super Kings\n",
       "14          Deccan Chargers\n",
       "15         Rajasthan Royals\n",
       "Name: Winner, dtype: object"
      ]
     },
     "execution_count": 31,
     "metadata": {},
     "output_type": "execute_result"
    }
   ],
   "source": [
    "#To fetch only winner column data\n",
    "\n",
    "IPL['Winner']"
   ]
  },
  {
   "cell_type": "code",
   "execution_count": 32,
   "id": "d1bb7d2f",
   "metadata": {},
   "outputs": [
    {
     "data": {
      "text/html": [
       "<div>\n",
       "<style scoped>\n",
       "    .dataframe tbody tr th:only-of-type {\n",
       "        vertical-align: middle;\n",
       "    }\n",
       "\n",
       "    .dataframe tbody tr th {\n",
       "        vertical-align: top;\n",
       "    }\n",
       "\n",
       "    .dataframe thead th {\n",
       "        text-align: right;\n",
       "    }\n",
       "</style>\n",
       "<table border=\"1\" class=\"dataframe\">\n",
       "  <thead>\n",
       "    <tr style=\"text-align: right;\">\n",
       "      <th></th>\n",
       "      <th>Winner</th>\n",
       "      <th>Won By</th>\n",
       "      <th>Venue</th>\n",
       "    </tr>\n",
       "  </thead>\n",
       "  <tbody>\n",
       "    <tr>\n",
       "      <th>0</th>\n",
       "      <td>Chennai Super Kings</td>\n",
       "      <td>5 wickets</td>\n",
       "      <td>Ahmedabad</td>\n",
       "    </tr>\n",
       "    <tr>\n",
       "      <th>1</th>\n",
       "      <td>Gujarat Titans</td>\n",
       "      <td>7 wickets</td>\n",
       "      <td>Ahmedabad</td>\n",
       "    </tr>\n",
       "    <tr>\n",
       "      <th>2</th>\n",
       "      <td>Chennai Super Kings</td>\n",
       "      <td>27 runs</td>\n",
       "      <td>Dubai</td>\n",
       "    </tr>\n",
       "    <tr>\n",
       "      <th>3</th>\n",
       "      <td>Mumbai Indians</td>\n",
       "      <td>5 wickets</td>\n",
       "      <td>Dubai</td>\n",
       "    </tr>\n",
       "    <tr>\n",
       "      <th>4</th>\n",
       "      <td>Mumbai Indians</td>\n",
       "      <td>1 run</td>\n",
       "      <td>Hyderabad</td>\n",
       "    </tr>\n",
       "    <tr>\n",
       "      <th>5</th>\n",
       "      <td>Chennai Super Kings</td>\n",
       "      <td>8 wickets</td>\n",
       "      <td>Mumbai</td>\n",
       "    </tr>\n",
       "    <tr>\n",
       "      <th>6</th>\n",
       "      <td>Mumbai Indians</td>\n",
       "      <td>1 run</td>\n",
       "      <td>Hyderabad</td>\n",
       "    </tr>\n",
       "    <tr>\n",
       "      <th>7</th>\n",
       "      <td>Sunrisers Hyderabad</td>\n",
       "      <td>8 runs</td>\n",
       "      <td>Bangalore</td>\n",
       "    </tr>\n",
       "    <tr>\n",
       "      <th>8</th>\n",
       "      <td>Mumbai Indians</td>\n",
       "      <td>41 runs</td>\n",
       "      <td>Kolkata</td>\n",
       "    </tr>\n",
       "    <tr>\n",
       "      <th>9</th>\n",
       "      <td>Kolkata Knight Riders</td>\n",
       "      <td>3 wickets</td>\n",
       "      <td>Bangalore</td>\n",
       "    </tr>\n",
       "    <tr>\n",
       "      <th>10</th>\n",
       "      <td>Mumbai Indians</td>\n",
       "      <td>23 runs</td>\n",
       "      <td>Kolkata</td>\n",
       "    </tr>\n",
       "    <tr>\n",
       "      <th>11</th>\n",
       "      <td>Kolkata Knight Riders</td>\n",
       "      <td>5 wickets</td>\n",
       "      <td>Chennai</td>\n",
       "    </tr>\n",
       "    <tr>\n",
       "      <th>12</th>\n",
       "      <td>Chennai Super Kings</td>\n",
       "      <td>58 runs</td>\n",
       "      <td>Chennai</td>\n",
       "    </tr>\n",
       "    <tr>\n",
       "      <th>13</th>\n",
       "      <td>Chennai Super Kings</td>\n",
       "      <td>22 runs</td>\n",
       "      <td>Mumbai</td>\n",
       "    </tr>\n",
       "    <tr>\n",
       "      <th>14</th>\n",
       "      <td>Deccan Chargers</td>\n",
       "      <td>6 runs</td>\n",
       "      <td>Johannesburg</td>\n",
       "    </tr>\n",
       "    <tr>\n",
       "      <th>15</th>\n",
       "      <td>Rajasthan Royals</td>\n",
       "      <td>3 wickets</td>\n",
       "      <td>Mumbai</td>\n",
       "    </tr>\n",
       "  </tbody>\n",
       "</table>\n",
       "</div>"
      ],
      "text/plain": [
       "                   Winner     Won By         Venue\n",
       "0     Chennai Super Kings  5 wickets     Ahmedabad\n",
       "1          Gujarat Titans  7 wickets     Ahmedabad\n",
       "2     Chennai Super Kings    27 runs         Dubai\n",
       "3          Mumbai Indians  5 wickets         Dubai\n",
       "4          Mumbai Indians      1 run     Hyderabad\n",
       "5     Chennai Super Kings  8 wickets        Mumbai\n",
       "6          Mumbai Indians      1 run     Hyderabad\n",
       "7     Sunrisers Hyderabad     8 runs     Bangalore\n",
       "8          Mumbai Indians    41 runs       Kolkata\n",
       "9   Kolkata Knight Riders  3 wickets     Bangalore\n",
       "10         Mumbai Indians    23 runs       Kolkata\n",
       "11  Kolkata Knight Riders  5 wickets       Chennai\n",
       "12    Chennai Super Kings    58 runs       Chennai\n",
       "13    Chennai Super Kings    22 runs        Mumbai\n",
       "14        Deccan Chargers     6 runs  Johannesburg\n",
       "15       Rajasthan Royals  3 wickets        Mumbai"
      ]
     },
     "execution_count": 32,
     "metadata": {},
     "output_type": "execute_result"
    }
   ],
   "source": [
    "#to fetch winner,won by, venue\n",
    "\n",
    "IPL[[\"Winner\",\"Won By\",\"Venue\"]]"
   ]
  },
  {
   "cell_type": "code",
   "execution_count": 33,
   "id": "e3955151",
   "metadata": {},
   "outputs": [
    {
     "data": {
      "text/plain": [
       "array(['Chennai Super Kings', 'Gujarat Titans', 'Mumbai Indians',\n",
       "       'Sunrisers Hyderabad', 'Kolkata Knight Riders', 'Deccan Chargers',\n",
       "       'Rajasthan Royals'], dtype=object)"
      ]
     },
     "execution_count": 33,
     "metadata": {},
     "output_type": "execute_result"
    }
   ],
   "source": [
    "#TO CHECK UNIQUE DATA OF PARTICULAR COLUMN\n",
    "\n",
    "IPL[\"Winner\"].unique()"
   ]
  },
  {
   "cell_type": "code",
   "execution_count": 34,
   "id": "67992b20",
   "metadata": {},
   "outputs": [
    {
     "name": "stdout",
     "output_type": "stream",
     "text": [
      "Year : [2023 2022 2021 2020 2019 2018 2017 2016 2015 2014 2013 2012 2011 2010\n",
      " 2009 2008]\n",
      "_____________________________________________________________________________________\n",
      "Winner : ['Chennai Super Kings' 'Gujarat Titans' 'Mumbai Indians'\n",
      " 'Sunrisers Hyderabad' 'Kolkata Knight Riders' 'Deccan Chargers'\n",
      " 'Rajasthan Royals']\n",
      "_____________________________________________________________________________________\n",
      "Won By : ['5 wickets' '7 wickets' '27 runs' '1 run' '8 wickets' '8 runs' '41 runs'\n",
      " '3 wickets' '23 runs' '58 runs' '22 runs' '6 runs']\n",
      "_____________________________________________________________________________________\n",
      "Runner Up : ['Gujarat Titans' 'Rajasthan Royals' 'Kolkata Knight Riders'\n",
      " 'Delhi Capitals' 'Chennai Super Kings' 'Sunrisers Hyderabad'\n",
      " 'Rising Pune Supergiants' 'Royal Challengers Bangalore' 'Kings XI Punjab'\n",
      " 'Mumbai Indians']\n",
      "_____________________________________________________________________________________\n",
      "Venue : ['Ahmedabad' 'Dubai' 'Hyderabad' 'Mumbai' 'Bangalore' 'Kolkata' 'Chennai'\n",
      " 'Johannesburg']\n",
      "_____________________________________________________________________________________\n"
     ]
    }
   ],
   "source": [
    "#TO check unique of all columns\n",
    "\n",
    "for i in IPL:\n",
    "    print(i,\":\" , IPL[i].unique())\n",
    "    print(\"_____________________________________________________________________________________\")"
   ]
  },
  {
   "cell_type": "code",
   "execution_count": 35,
   "id": "b95b4ba6",
   "metadata": {},
   "outputs": [
    {
     "data": {
      "text/plain": [
       "0     False\n",
       "1     False\n",
       "2     False\n",
       "3      True\n",
       "4      True\n",
       "5     False\n",
       "6      True\n",
       "7     False\n",
       "8      True\n",
       "9     False\n",
       "10     True\n",
       "11    False\n",
       "12    False\n",
       "13    False\n",
       "14    False\n",
       "15    False\n",
       "Name: Winner, dtype: bool"
      ]
     },
     "execution_count": 35,
     "metadata": {},
     "output_type": "execute_result"
    }
   ],
   "source": [
    "#FILTERING TH DATA\n",
    "\n",
    "#condition to chek where it is true and where it is false\n",
    "IPL[\"Winner\"]==\"Mumbai Indians\""
   ]
  },
  {
   "cell_type": "code",
   "execution_count": null,
   "id": "94c1cf23",
   "metadata": {},
   "outputs": [],
   "source": []
  },
  {
   "cell_type": "code",
   "execution_count": 36,
   "id": "5da58a9d",
   "metadata": {},
   "outputs": [
    {
     "data": {
      "text/html": [
       "<div>\n",
       "<style scoped>\n",
       "    .dataframe tbody tr th:only-of-type {\n",
       "        vertical-align: middle;\n",
       "    }\n",
       "\n",
       "    .dataframe tbody tr th {\n",
       "        vertical-align: top;\n",
       "    }\n",
       "\n",
       "    .dataframe thead th {\n",
       "        text-align: right;\n",
       "    }\n",
       "</style>\n",
       "<table border=\"1\" class=\"dataframe\">\n",
       "  <thead>\n",
       "    <tr style=\"text-align: right;\">\n",
       "      <th></th>\n",
       "      <th>Year</th>\n",
       "      <th>Winner</th>\n",
       "      <th>Won By</th>\n",
       "      <th>Runner Up</th>\n",
       "      <th>Venue</th>\n",
       "    </tr>\n",
       "  </thead>\n",
       "  <tbody>\n",
       "    <tr>\n",
       "      <th>3</th>\n",
       "      <td>2020</td>\n",
       "      <td>Mumbai Indians</td>\n",
       "      <td>5 wickets</td>\n",
       "      <td>Delhi Capitals</td>\n",
       "      <td>Dubai</td>\n",
       "    </tr>\n",
       "    <tr>\n",
       "      <th>4</th>\n",
       "      <td>2019</td>\n",
       "      <td>Mumbai Indians</td>\n",
       "      <td>1 run</td>\n",
       "      <td>Chennai Super Kings</td>\n",
       "      <td>Hyderabad</td>\n",
       "    </tr>\n",
       "    <tr>\n",
       "      <th>6</th>\n",
       "      <td>2017</td>\n",
       "      <td>Mumbai Indians</td>\n",
       "      <td>1 run</td>\n",
       "      <td>Rising Pune Supergiants</td>\n",
       "      <td>Hyderabad</td>\n",
       "    </tr>\n",
       "    <tr>\n",
       "      <th>8</th>\n",
       "      <td>2015</td>\n",
       "      <td>Mumbai Indians</td>\n",
       "      <td>41 runs</td>\n",
       "      <td>Chennai Super Kings</td>\n",
       "      <td>Kolkata</td>\n",
       "    </tr>\n",
       "    <tr>\n",
       "      <th>10</th>\n",
       "      <td>2013</td>\n",
       "      <td>Mumbai Indians</td>\n",
       "      <td>23 runs</td>\n",
       "      <td>Chennai Super Kings</td>\n",
       "      <td>Kolkata</td>\n",
       "    </tr>\n",
       "  </tbody>\n",
       "</table>\n",
       "</div>"
      ],
      "text/plain": [
       "    Year          Winner     Won By                Runner Up      Venue\n",
       "3   2020  Mumbai Indians  5 wickets           Delhi Capitals      Dubai\n",
       "4   2019  Mumbai Indians      1 run      Chennai Super Kings  Hyderabad\n",
       "6   2017  Mumbai Indians      1 run  Rising Pune Supergiants  Hyderabad\n",
       "8   2015  Mumbai Indians    41 runs      Chennai Super Kings    Kolkata\n",
       "10  2013  Mumbai Indians    23 runs      Chennai Super Kings    Kolkata"
      ]
     },
     "execution_count": 36,
     "metadata": {},
     "output_type": "execute_result"
    }
   ],
   "source": [
    "IPL[IPL[\"Winner\"]==\"Mumbai Indians\"]  #It is called condition filtering\n",
    "#Dataframe[Dataframe[column name]== condition]\n",
    "\n",
    "#this sintax works as a conditional filtering of data"
   ]
  },
  {
   "cell_type": "code",
   "execution_count": 37,
   "id": "6c03eb2e",
   "metadata": {},
   "outputs": [
    {
     "data": {
      "text/html": [
       "<div>\n",
       "<style scoped>\n",
       "    .dataframe tbody tr th:only-of-type {\n",
       "        vertical-align: middle;\n",
       "    }\n",
       "\n",
       "    .dataframe tbody tr th {\n",
       "        vertical-align: top;\n",
       "    }\n",
       "\n",
       "    .dataframe thead th {\n",
       "        text-align: right;\n",
       "    }\n",
       "</style>\n",
       "<table border=\"1\" class=\"dataframe\">\n",
       "  <thead>\n",
       "    <tr style=\"text-align: right;\">\n",
       "      <th></th>\n",
       "      <th>Year</th>\n",
       "      <th>Winner</th>\n",
       "      <th>Won By</th>\n",
       "      <th>Runner Up</th>\n",
       "      <th>Venue</th>\n",
       "    </tr>\n",
       "  </thead>\n",
       "  <tbody>\n",
       "    <tr>\n",
       "      <th>3</th>\n",
       "      <td>2020</td>\n",
       "      <td>Mumbai Indians</td>\n",
       "      <td>5 wickets</td>\n",
       "      <td>Delhi Capitals</td>\n",
       "      <td>Dubai</td>\n",
       "    </tr>\n",
       "    <tr>\n",
       "      <th>4</th>\n",
       "      <td>2019</td>\n",
       "      <td>Mumbai Indians</td>\n",
       "      <td>1 run</td>\n",
       "      <td>Chennai Super Kings</td>\n",
       "      <td>Hyderabad</td>\n",
       "    </tr>\n",
       "    <tr>\n",
       "      <th>6</th>\n",
       "      <td>2017</td>\n",
       "      <td>Mumbai Indians</td>\n",
       "      <td>1 run</td>\n",
       "      <td>Rising Pune Supergiants</td>\n",
       "      <td>Hyderabad</td>\n",
       "    </tr>\n",
       "    <tr>\n",
       "      <th>8</th>\n",
       "      <td>2015</td>\n",
       "      <td>Mumbai Indians</td>\n",
       "      <td>41 runs</td>\n",
       "      <td>Chennai Super Kings</td>\n",
       "      <td>Kolkata</td>\n",
       "    </tr>\n",
       "    <tr>\n",
       "      <th>10</th>\n",
       "      <td>2013</td>\n",
       "      <td>Mumbai Indians</td>\n",
       "      <td>23 runs</td>\n",
       "      <td>Chennai Super Kings</td>\n",
       "      <td>Kolkata</td>\n",
       "    </tr>\n",
       "  </tbody>\n",
       "</table>\n",
       "</div>"
      ],
      "text/plain": [
       "    Year          Winner     Won By                Runner Up      Venue\n",
       "3   2020  Mumbai Indians  5 wickets           Delhi Capitals      Dubai\n",
       "4   2019  Mumbai Indians      1 run      Chennai Super Kings  Hyderabad\n",
       "6   2017  Mumbai Indians      1 run  Rising Pune Supergiants  Hyderabad\n",
       "8   2015  Mumbai Indians    41 runs      Chennai Super Kings    Kolkata\n",
       "10  2013  Mumbai Indians    23 runs      Chennai Super Kings    Kolkata"
      ]
     },
     "execution_count": 37,
     "metadata": {},
     "output_type": "execute_result"
    }
   ],
   "source": [
    "MI=IPL[IPL[\"Winner\"]==\"Mumbai Indians\"]  #using variable we can store our data\n",
    "MI"
   ]
  },
  {
   "cell_type": "code",
   "execution_count": null,
   "id": "f4b956bd",
   "metadata": {},
   "outputs": [],
   "source": []
  }
 ],
 "metadata": {
  "kernelspec": {
   "display_name": "Python 3 (ipykernel)",
   "language": "python",
   "name": "python3"
  },
  "language_info": {
   "codemirror_mode": {
    "name": "ipython",
    "version": 3
   },
   "file_extension": ".py",
   "mimetype": "text/x-python",
   "name": "python",
   "nbconvert_exporter": "python",
   "pygments_lexer": "ipython3",
   "version": "3.9.12"
  }
 },
 "nbformat": 4,
 "nbformat_minor": 5
}
